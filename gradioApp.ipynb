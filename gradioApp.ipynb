{
 "cells": [
  {
   "cell_type": "code",
   "execution_count": 39,
   "id": "c1f201a7",
   "metadata": {},
   "outputs": [],
   "source": [
    "import gradio as gr\n",
    "import joblib\n",
    "import numpy as np"
   ]
  },
  {
   "cell_type": "code",
   "execution_count": 40,
   "id": "40966196",
   "metadata": {},
   "outputs": [],
   "source": [
    "loaded_model = joblib.load(\"ml1.joblib\")"
   ]
  },
  {
   "cell_type": "code",
   "execution_count": 41,
   "id": "0d550409",
   "metadata": {},
   "outputs": [
    {
     "name": "stdout",
     "output_type": "stream",
     "text": [
      "Running on local URL:  http://127.0.0.1:7879\n",
      "Running on public URL: https://3a2f552dbe688fb7eb.gradio.live\n",
      "\n",
      "This share link expires in 72 hours. For free permanent hosting and GPU upgrades, run `gradio deploy` from Terminal to deploy to Spaces (https://huggingface.co/spaces)\n"
     ]
    },
    {
     "data": {
      "text/html": [
       "<div><iframe src=\"https://3a2f552dbe688fb7eb.gradio.live\" width=\"100%\" height=\"500\" allow=\"autoplay; camera; microphone; clipboard-read; clipboard-write;\" frameborder=\"0\" allowfullscreen></iframe></div>"
      ],
      "text/plain": [
       "<IPython.core.display.HTML object>"
      ]
     },
     "metadata": {},
     "output_type": "display_data"
    },
    {
     "data": {
      "text/plain": []
     },
     "execution_count": 41,
     "metadata": {},
     "output_type": "execute_result"
    }
   ],
   "source": [
    "# Define the input components with labels for user input\n",
    "input_components = [\n",
    "    gr.components.Radio(label=\"Gender\", choices=[\"m\", \"f\"]),\n",
    "    gr.components.Radio(label=\"Facility ID\", choices=[\"a\", \"b\", \"c\", \"d\", \"e\"]),\n",
    "    gr.components.Dropdown(label=\"Psychological Disorder Major\", choices=[\"true\", \"false\"]),\n",
    "    gr.components.Dropdown(label=\"Hemo\", choices=[\"true\", \"false\"]),\n",
    "    gr.components.Dropdown(label=\"Irondef\", choices=[\"true\", \"false\"]),\n",
    "    gr.components.Textbox(label=\"Glucose\", type=\"text\"),  # Use Textbox with type \"text\"\n",
    "    gr.components.Button(label=\"Calculate\")  # Add a submit button\n",
    "]\n",
    "\n",
    "# Create a function for prediction\n",
    "def predict_length_of_stay(gender, facid, psychologicaldisordermajor, hemo, irondef, glucose, _):\n",
    "    # Placeholder value for ID\n",
    "    id = 0\n",
    "\n",
    "    # Map \"m\" to 1 and \"f\" to 0 for gender\n",
    "    gender = 1 if gender == \"m\" else 0\n",
    "\n",
    "    # Map \"a,\" \"b,\" \"c,\" \"d,\" \"e\" to numeric values for facility ID\n",
    "    facid_mapping = {\"a\": 0, \"b\": 1, \"c\": 2, \"d\": 3, \"e\": 4}\n",
    "    facid = facid_mapping.get(facid, 0)  # Default to 0 if not found in mapping\n",
    "\n",
    "    # Convert \"true\" or \"false\" to 1 or 0 for other features\n",
    "    psychologicaldisordermajor = 1 if psychologicaldisordermajor == \"true\" else 0\n",
    "    hemo = 1 if hemo == \"true\" else 0\n",
    "    irondef = 1 if irondef == \"true\" else 0\n",
    "\n",
    "    # Handle empty or non-integer glucose input\n",
    "    try:\n",
    "        glucose = int(glucose)\n",
    "    except ValueError:\n",
    "        return \"Invalid Glucose Value\"\n",
    "\n",
    "    # Create a feature vector with the 6 input values\n",
    "    input_data = np.array([id, gender, facid, psychologicaldisordermajor, hemo, irondef, glucose]).reshape(1, -1)\n",
    "\n",
    "    # Make predictions using the modified model\n",
    "    predicted_length_of_stay = loaded_model.predict(input_data)\n",
    "\n",
    "    return predicted_length_of_stay[0]  # Return the prediction\n",
    "\n",
    "# Define the Gradio interface\n",
    "iface = gr.Interface(\n",
    "    fn=predict_length_of_stay,\n",
    "    inputs=input_components,\n",
    "    outputs=gr.components.Textbox(label=\"Predicted Length of Stay\"),\n",
    "    live=True\n",
    ")\n",
    "\n",
    "# Launch the Gradio web app\n",
    "iface.launch(share=\"true\")"
   ]
  },
  {
   "cell_type": "code",
   "execution_count": null,
   "id": "c174d4d8",
   "metadata": {},
   "outputs": [],
   "source": []
  }
 ],
 "metadata": {
  "kernelspec": {
   "display_name": "dat158",
   "language": "python",
   "name": "dat158"
  },
  "language_info": {
   "codemirror_mode": {
    "name": "ipython",
    "version": 3
   },
   "file_extension": ".py",
   "mimetype": "text/x-python",
   "name": "python",
   "nbconvert_exporter": "python",
   "pygments_lexer": "ipython3",
   "version": "3.9.6"
  }
 },
 "nbformat": 4,
 "nbformat_minor": 5
}
