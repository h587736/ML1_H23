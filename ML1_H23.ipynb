{
 "cells": [
  {
   "cell_type": "markdown",
   "id": "924f060c",
   "metadata": {},
   "source": [
    "# 1. Frame the problem and look at the big picture"
   ]
  },
  {
   "cell_type": "code",
   "execution_count": 1,
   "id": "76cc2dce",
   "metadata": {},
   "outputs": [],
   "source": [
    "#imports and some directory assignments\n",
    "%matplotlib inline\n",
    "import numpy as np \n",
    "import pandas as pd\n",
    "import matplotlib.pyplot as plt\n",
    "import seaborn as sns\n",
    "from joblib import dump\n",
    "import os\n",
    "# Where to save the figures\n",
    "PROJECT_ROOT_DIR = \".\"\n",
    "CHAPTER_ID = \"end_to_end_project\"\n",
    "IMAGES_PATH = os.path.join(PROJECT_ROOT_DIR, \"images\", CHAPTER_ID)\n",
    "os.makedirs(IMAGES_PATH, exist_ok=True)"
   ]
  },
  {
   "cell_type": "markdown",
   "id": "00be0a97",
   "metadata": {},
   "source": [
    "# 2. Get the data"
   ]
  },
  {
   "cell_type": "code",
   "execution_count": 2,
   "id": "66f9dfb6",
   "metadata": {},
   "outputs": [
    {
     "name": "stdout",
     "output_type": "stream",
     "text": [
      "['data_dictionary.csv', 'metadata.csv', 'sample_submission.csv', 'test_data.csv', 'training_data.csv']\n"
     ]
    }
   ],
   "source": [
    "#lists the files in the folder\n",
    "import urllib.request\n",
    "print(os.listdir(\"data\"))"
   ]
  },
  {
   "cell_type": "code",
   "execution_count": 3,
   "id": "321f7730",
   "metadata": {},
   "outputs": [],
   "source": [
    "#Reads in the csv-files and creates a dataframe using pandas\n",
    "test = pd.read_csv('data/test_data.csv')\n",
    "train = pd.read_csv('data/training_data.csv')\n",
    "dic = pd.read_csv('data/data_dictionary.csv')"
   ]
  },
  {
   "cell_type": "markdown",
   "id": "5a6eb4b5",
   "metadata": {},
   "source": [
    "# 3. Explore the data to gain insights"
   ]
  },
  {
   "cell_type": "code",
   "execution_count": 4,
   "id": "fa76d1f6",
   "metadata": {},
   "outputs": [
    {
     "data": {
      "text/html": [
       "<div>\n",
       "<style scoped>\n",
       "    .dataframe tbody tr th:only-of-type {\n",
       "        vertical-align: middle;\n",
       "    }\n",
       "\n",
       "    .dataframe tbody tr th {\n",
       "        vertical-align: top;\n",
       "    }\n",
       "\n",
       "    .dataframe thead th {\n",
       "        text-align: right;\n",
       "    }\n",
       "</style>\n",
       "<table border=\"1\" class=\"dataframe\">\n",
       "  <thead>\n",
       "    <tr style=\"text-align: right;\">\n",
       "      <th></th>\n",
       "      <th>id</th>\n",
       "      <th>rcount</th>\n",
       "      <th>gender</th>\n",
       "      <th>dialysisrenalendstage</th>\n",
       "      <th>asthma</th>\n",
       "      <th>irondef</th>\n",
       "      <th>pneum</th>\n",
       "      <th>substancedependence</th>\n",
       "      <th>psychologicaldisordermajor</th>\n",
       "      <th>depress</th>\n",
       "      <th>...</th>\n",
       "      <th>neutrophils</th>\n",
       "      <th>sodium</th>\n",
       "      <th>glucose</th>\n",
       "      <th>bloodureanitro</th>\n",
       "      <th>creatinine</th>\n",
       "      <th>bmi</th>\n",
       "      <th>pulse</th>\n",
       "      <th>respiration</th>\n",
       "      <th>secondarydiagnosisnonicd9</th>\n",
       "      <th>facid</th>\n",
       "    </tr>\n",
       "  </thead>\n",
       "  <tbody>\n",
       "    <tr>\n",
       "      <th>0</th>\n",
       "      <td>75721</td>\n",
       "      <td>0</td>\n",
       "      <td>0.0</td>\n",
       "      <td>False</td>\n",
       "      <td>False</td>\n",
       "      <td>False</td>\n",
       "      <td>False</td>\n",
       "      <td>False</td>\n",
       "      <td>False</td>\n",
       "      <td>False</td>\n",
       "      <td>...</td>\n",
       "      <td>9.550000</td>\n",
       "      <td>137.722354</td>\n",
       "      <td>141.479044</td>\n",
       "      <td>12.0</td>\n",
       "      <td>0.676542</td>\n",
       "      <td>28.702016</td>\n",
       "      <td>70</td>\n",
       "      <td>5.9</td>\n",
       "      <td>2</td>\n",
       "      <td>0.0</td>\n",
       "    </tr>\n",
       "    <tr>\n",
       "      <th>1</th>\n",
       "      <td>80184</td>\n",
       "      <td>0</td>\n",
       "      <td>0.0</td>\n",
       "      <td>False</td>\n",
       "      <td>False</td>\n",
       "      <td>False</td>\n",
       "      <td>False</td>\n",
       "      <td>False</td>\n",
       "      <td>False</td>\n",
       "      <td>False</td>\n",
       "      <td>...</td>\n",
       "      <td>11.600000</td>\n",
       "      <td>137.861621</td>\n",
       "      <td>184.433689</td>\n",
       "      <td>12.0</td>\n",
       "      <td>1.520272</td>\n",
       "      <td>29.702723</td>\n",
       "      <td>62</td>\n",
       "      <td>6.5</td>\n",
       "      <td>1</td>\n",
       "      <td>0.0</td>\n",
       "    </tr>\n",
       "    <tr>\n",
       "      <th>2</th>\n",
       "      <td>19864</td>\n",
       "      <td>4</td>\n",
       "      <td>0.0</td>\n",
       "      <td>False</td>\n",
       "      <td>True</td>\n",
       "      <td>True</td>\n",
       "      <td>False</td>\n",
       "      <td>False</td>\n",
       "      <td>False</td>\n",
       "      <td>False</td>\n",
       "      <td>...</td>\n",
       "      <td>16.233333</td>\n",
       "      <td>138.586277</td>\n",
       "      <td>185.799872</td>\n",
       "      <td>8.5</td>\n",
       "      <td>1.137023</td>\n",
       "      <td>29.984780</td>\n",
       "      <td>68</td>\n",
       "      <td>5.3</td>\n",
       "      <td>1</td>\n",
       "      <td>3.0</td>\n",
       "    </tr>\n",
       "    <tr>\n",
       "      <th>3</th>\n",
       "      <td>76699</td>\n",
       "      <td>0</td>\n",
       "      <td>0.0</td>\n",
       "      <td>False</td>\n",
       "      <td>False</td>\n",
       "      <td>False</td>\n",
       "      <td>False</td>\n",
       "      <td>False</td>\n",
       "      <td>False</td>\n",
       "      <td>False</td>\n",
       "      <td>...</td>\n",
       "      <td>9.100000</td>\n",
       "      <td>142.714836</td>\n",
       "      <td>113.951944</td>\n",
       "      <td>12.0</td>\n",
       "      <td>0.845051</td>\n",
       "      <td>32.509896</td>\n",
       "      <td>84</td>\n",
       "      <td>6.5</td>\n",
       "      <td>2</td>\n",
       "      <td>1.0</td>\n",
       "    </tr>\n",
       "    <tr>\n",
       "      <th>4</th>\n",
       "      <td>92991</td>\n",
       "      <td>0</td>\n",
       "      <td>0.0</td>\n",
       "      <td>False</td>\n",
       "      <td>False</td>\n",
       "      <td>False</td>\n",
       "      <td>False</td>\n",
       "      <td>False</td>\n",
       "      <td>False</td>\n",
       "      <td>False</td>\n",
       "      <td>...</td>\n",
       "      <td>12.000000</td>\n",
       "      <td>142.683468</td>\n",
       "      <td>111.787840</td>\n",
       "      <td>12.0</td>\n",
       "      <td>0.814372</td>\n",
       "      <td>29.870887</td>\n",
       "      <td>88</td>\n",
       "      <td>6.5</td>\n",
       "      <td>1</td>\n",
       "      <td>1.0</td>\n",
       "    </tr>\n",
       "  </tbody>\n",
       "</table>\n",
       "<p>5 rows × 25 columns</p>\n",
       "</div>"
      ],
      "text/plain": [
       "      id  rcount  gender  dialysisrenalendstage  asthma  irondef  pneum  \\\n",
       "0  75721       0     0.0                  False   False    False  False   \n",
       "1  80184       0     0.0                  False   False    False  False   \n",
       "2  19864       4     0.0                  False    True     True  False   \n",
       "3  76699       0     0.0                  False   False    False  False   \n",
       "4  92991       0     0.0                  False   False    False  False   \n",
       "\n",
       "   substancedependence  psychologicaldisordermajor  depress  ...  neutrophils  \\\n",
       "0                False                       False    False  ...     9.550000   \n",
       "1                False                       False    False  ...    11.600000   \n",
       "2                False                       False    False  ...    16.233333   \n",
       "3                False                       False    False  ...     9.100000   \n",
       "4                False                       False    False  ...    12.000000   \n",
       "\n",
       "       sodium     glucose  bloodureanitro  creatinine        bmi  pulse  \\\n",
       "0  137.722354  141.479044            12.0    0.676542  28.702016     70   \n",
       "1  137.861621  184.433689            12.0    1.520272  29.702723     62   \n",
       "2  138.586277  185.799872             8.5    1.137023  29.984780     68   \n",
       "3  142.714836  113.951944            12.0    0.845051  32.509896     84   \n",
       "4  142.683468  111.787840            12.0    0.814372  29.870887     88   \n",
       "\n",
       "   respiration  secondarydiagnosisnonicd9  facid  \n",
       "0          5.9                          2    0.0  \n",
       "1          6.5                          1    0.0  \n",
       "2          5.3                          1    3.0  \n",
       "3          6.5                          2    1.0  \n",
       "4          6.5                          1    1.0  \n",
       "\n",
       "[5 rows x 25 columns]"
      ]
     },
     "execution_count": 4,
     "metadata": {},
     "output_type": "execute_result"
    }
   ],
   "source": [
    "#shows the 5 first entries in the data and training set\n",
    "train.head()\n",
    "test.head()"
   ]
  },
  {
   "cell_type": "code",
   "execution_count": 5,
   "id": "45676719",
   "metadata": {},
   "outputs": [
    {
     "name": "stdout",
     "output_type": "stream",
     "text": [
      "<class 'pandas.core.frame.DataFrame'>\n",
      "RangeIndex: 70000 entries, 0 to 69999\n",
      "Data columns (total 27 columns):\n",
      " #   Column                      Non-Null Count  Dtype  \n",
      "---  ------                      --------------  -----  \n",
      " 0   id                          70000 non-null  int64  \n",
      " 1   vdate                       70000 non-null  object \n",
      " 2   rcount                      70000 non-null  int64  \n",
      " 3   gender                      69647 non-null  object \n",
      " 4   dialysisrenalendstage       70000 non-null  bool   \n",
      " 5   asthma                      70000 non-null  bool   \n",
      " 6   irondef                     70000 non-null  bool   \n",
      " 7   pneum                       70000 non-null  bool   \n",
      " 8   substancedependence         70000 non-null  bool   \n",
      " 9   psychologicaldisordermajor  70000 non-null  bool   \n",
      " 10  depress                     70000 non-null  bool   \n",
      " 11  psychother                  70000 non-null  bool   \n",
      " 12  fibrosisandother            70000 non-null  bool   \n",
      " 13  malnutrition                70000 non-null  bool   \n",
      " 14  hemo                        69928 non-null  object \n",
      " 15  hematocrit                  70000 non-null  float64\n",
      " 16  neutrophils                 70000 non-null  float64\n",
      " 17  sodium                      70000 non-null  float64\n",
      " 18  glucose                     70000 non-null  float64\n",
      " 19  bloodureanitro              70000 non-null  float64\n",
      " 20  creatinine                  70000 non-null  float64\n",
      " 21  bmi                         69575 non-null  float64\n",
      " 22  pulse                       70000 non-null  int64  \n",
      " 23  respiration                 70000 non-null  float64\n",
      " 24  secondarydiagnosisnonicd9   70000 non-null  int64  \n",
      " 25  facid                       70000 non-null  object \n",
      " 26  lengthofstay                70000 non-null  int64  \n",
      "dtypes: bool(10), float64(8), int64(5), object(4)\n",
      "memory usage: 9.7+ MB\n",
      "<class 'pandas.core.frame.DataFrame'>\n",
      "RangeIndex: 30000 entries, 0 to 29999\n",
      "Data columns (total 25 columns):\n",
      " #   Column                      Non-Null Count  Dtype  \n",
      "---  ------                      --------------  -----  \n",
      " 0   id                          30000 non-null  int64  \n",
      " 1   rcount                      30000 non-null  int64  \n",
      " 2   gender                      30000 non-null  float64\n",
      " 3   dialysisrenalendstage       30000 non-null  bool   \n",
      " 4   asthma                      30000 non-null  bool   \n",
      " 5   irondef                     30000 non-null  bool   \n",
      " 6   pneum                       30000 non-null  bool   \n",
      " 7   substancedependence         30000 non-null  bool   \n",
      " 8   psychologicaldisordermajor  30000 non-null  bool   \n",
      " 9   depress                     30000 non-null  bool   \n",
      " 10  psychother                  30000 non-null  bool   \n",
      " 11  fibrosisandother            30000 non-null  bool   \n",
      " 12  malnutrition                30000 non-null  bool   \n",
      " 13  hemo                        30000 non-null  float64\n",
      " 14  hematocrit                  30000 non-null  float64\n",
      " 15  neutrophils                 30000 non-null  float64\n",
      " 16  sodium                      30000 non-null  float64\n",
      " 17  glucose                     30000 non-null  float64\n",
      " 18  bloodureanitro              30000 non-null  float64\n",
      " 19  creatinine                  30000 non-null  float64\n",
      " 20  bmi                         30000 non-null  float64\n",
      " 21  pulse                       30000 non-null  int64  \n",
      " 22  respiration                 30000 non-null  float64\n",
      " 23  secondarydiagnosisnonicd9   30000 non-null  int64  \n",
      " 24  facid                       30000 non-null  float64\n",
      "dtypes: bool(10), float64(11), int64(4)\n",
      "memory usage: 3.7 MB\n"
     ]
    }
   ],
   "source": [
    "#prints information of the train and test table\n",
    "train.info()\n",
    "test.info()"
   ]
  },
  {
   "cell_type": "code",
   "execution_count": 6,
   "id": "2edfc775",
   "metadata": {},
   "outputs": [
    {
     "data": {
      "text/html": [
       "<div>\n",
       "<style scoped>\n",
       "    .dataframe tbody tr th:only-of-type {\n",
       "        vertical-align: middle;\n",
       "    }\n",
       "\n",
       "    .dataframe tbody tr th {\n",
       "        vertical-align: top;\n",
       "    }\n",
       "\n",
       "    .dataframe thead th {\n",
       "        text-align: right;\n",
       "    }\n",
       "</style>\n",
       "<table border=\"1\" class=\"dataframe\">\n",
       "  <thead>\n",
       "    <tr style=\"text-align: right;\">\n",
       "      <th></th>\n",
       "      <th>id</th>\n",
       "      <th>rcount</th>\n",
       "      <th>hematocrit</th>\n",
       "      <th>neutrophils</th>\n",
       "      <th>sodium</th>\n",
       "      <th>glucose</th>\n",
       "      <th>bloodureanitro</th>\n",
       "      <th>creatinine</th>\n",
       "      <th>bmi</th>\n",
       "      <th>pulse</th>\n",
       "      <th>respiration</th>\n",
       "      <th>secondarydiagnosisnonicd9</th>\n",
       "      <th>lengthofstay</th>\n",
       "    </tr>\n",
       "  </thead>\n",
       "  <tbody>\n",
       "    <tr>\n",
       "      <th>count</th>\n",
       "      <td>70000.000000</td>\n",
       "      <td>70000.000000</td>\n",
       "      <td>70000.000000</td>\n",
       "      <td>70000.000000</td>\n",
       "      <td>70000.000000</td>\n",
       "      <td>70000.000000</td>\n",
       "      <td>70000.000000</td>\n",
       "      <td>70000.000000</td>\n",
       "      <td>69575.000000</td>\n",
       "      <td>70000.000000</td>\n",
       "      <td>70000.000000</td>\n",
       "      <td>70000.000000</td>\n",
       "      <td>70000.000000</td>\n",
       "    </tr>\n",
       "    <tr>\n",
       "      <th>mean</th>\n",
       "      <td>50018.010943</td>\n",
       "      <td>1.117800</td>\n",
       "      <td>11.973741</td>\n",
       "      <td>10.181028</td>\n",
       "      <td>137.893691</td>\n",
       "      <td>141.947923</td>\n",
       "      <td>14.101121</td>\n",
       "      <td>1.099444</td>\n",
       "      <td>29.798116</td>\n",
       "      <td>73.455571</td>\n",
       "      <td>6.491512</td>\n",
       "      <td>2.125414</td>\n",
       "      <td>4.001157</td>\n",
       "    </tr>\n",
       "    <tr>\n",
       "      <th>std</th>\n",
       "      <td>28886.394727</td>\n",
       "      <td>1.544793</td>\n",
       "      <td>2.028058</td>\n",
       "      <td>5.314608</td>\n",
       "      <td>2.995433</td>\n",
       "      <td>30.021199</td>\n",
       "      <td>13.222691</td>\n",
       "      <td>0.200551</td>\n",
       "      <td>2.005805</td>\n",
       "      <td>11.650784</td>\n",
       "      <td>0.569957</td>\n",
       "      <td>2.056600</td>\n",
       "      <td>2.356839</td>\n",
       "    </tr>\n",
       "    <tr>\n",
       "      <th>min</th>\n",
       "      <td>0.000000</td>\n",
       "      <td>0.000000</td>\n",
       "      <td>4.400000</td>\n",
       "      <td>0.100000</td>\n",
       "      <td>124.912632</td>\n",
       "      <td>-1.005927</td>\n",
       "      <td>1.000000</td>\n",
       "      <td>0.219770</td>\n",
       "      <td>21.992683</td>\n",
       "      <td>21.000000</td>\n",
       "      <td>0.200000</td>\n",
       "      <td>0.000000</td>\n",
       "      <td>1.000000</td>\n",
       "    </tr>\n",
       "    <tr>\n",
       "      <th>25%</th>\n",
       "      <td>24970.750000</td>\n",
       "      <td>0.000000</td>\n",
       "      <td>10.900000</td>\n",
       "      <td>7.700000</td>\n",
       "      <td>135.874209</td>\n",
       "      <td>121.740953</td>\n",
       "      <td>11.000000</td>\n",
       "      <td>0.964179</td>\n",
       "      <td>28.441568</td>\n",
       "      <td>66.000000</td>\n",
       "      <td>6.500000</td>\n",
       "      <td>1.000000</td>\n",
       "      <td>2.000000</td>\n",
       "    </tr>\n",
       "    <tr>\n",
       "      <th>50%</th>\n",
       "      <td>50075.500000</td>\n",
       "      <td>0.000000</td>\n",
       "      <td>11.900000</td>\n",
       "      <td>9.400000</td>\n",
       "      <td>137.889636</td>\n",
       "      <td>142.060575</td>\n",
       "      <td>12.000000</td>\n",
       "      <td>1.098900</td>\n",
       "      <td>29.804597</td>\n",
       "      <td>73.000000</td>\n",
       "      <td>6.500000</td>\n",
       "      <td>1.000000</td>\n",
       "      <td>4.000000</td>\n",
       "    </tr>\n",
       "    <tr>\n",
       "      <th>75%</th>\n",
       "      <td>75036.250000</td>\n",
       "      <td>2.000000</td>\n",
       "      <td>12.900000</td>\n",
       "      <td>11.500000</td>\n",
       "      <td>139.905064</td>\n",
       "      <td>162.147081</td>\n",
       "      <td>14.000000</td>\n",
       "      <td>1.235934</td>\n",
       "      <td>31.152370</td>\n",
       "      <td>81.000000</td>\n",
       "      <td>6.500000</td>\n",
       "      <td>3.000000</td>\n",
       "      <td>6.000000</td>\n",
       "    </tr>\n",
       "    <tr>\n",
       "      <th>max</th>\n",
       "      <td>99998.000000</td>\n",
       "      <td>5.000000</td>\n",
       "      <td>24.100000</td>\n",
       "      <td>245.900000</td>\n",
       "      <td>151.387283</td>\n",
       "      <td>268.571156</td>\n",
       "      <td>682.500000</td>\n",
       "      <td>2.035202</td>\n",
       "      <td>38.935293</td>\n",
       "      <td>130.000000</td>\n",
       "      <td>10.000000</td>\n",
       "      <td>10.000000</td>\n",
       "      <td>17.000000</td>\n",
       "    </tr>\n",
       "  </tbody>\n",
       "</table>\n",
       "</div>"
      ],
      "text/plain": [
       "                 id        rcount    hematocrit   neutrophils        sodium  \\\n",
       "count  70000.000000  70000.000000  70000.000000  70000.000000  70000.000000   \n",
       "mean   50018.010943      1.117800     11.973741     10.181028    137.893691   \n",
       "std    28886.394727      1.544793      2.028058      5.314608      2.995433   \n",
       "min        0.000000      0.000000      4.400000      0.100000    124.912632   \n",
       "25%    24970.750000      0.000000     10.900000      7.700000    135.874209   \n",
       "50%    50075.500000      0.000000     11.900000      9.400000    137.889636   \n",
       "75%    75036.250000      2.000000     12.900000     11.500000    139.905064   \n",
       "max    99998.000000      5.000000     24.100000    245.900000    151.387283   \n",
       "\n",
       "            glucose  bloodureanitro    creatinine           bmi         pulse  \\\n",
       "count  70000.000000    70000.000000  70000.000000  69575.000000  70000.000000   \n",
       "mean     141.947923       14.101121      1.099444     29.798116     73.455571   \n",
       "std       30.021199       13.222691      0.200551      2.005805     11.650784   \n",
       "min       -1.005927        1.000000      0.219770     21.992683     21.000000   \n",
       "25%      121.740953       11.000000      0.964179     28.441568     66.000000   \n",
       "50%      142.060575       12.000000      1.098900     29.804597     73.000000   \n",
       "75%      162.147081       14.000000      1.235934     31.152370     81.000000   \n",
       "max      268.571156      682.500000      2.035202     38.935293    130.000000   \n",
       "\n",
       "        respiration  secondarydiagnosisnonicd9  lengthofstay  \n",
       "count  70000.000000               70000.000000  70000.000000  \n",
       "mean       6.491512                   2.125414      4.001157  \n",
       "std        0.569957                   2.056600      2.356839  \n",
       "min        0.200000                   0.000000      1.000000  \n",
       "25%        6.500000                   1.000000      2.000000  \n",
       "50%        6.500000                   1.000000      4.000000  \n",
       "75%        6.500000                   3.000000      6.000000  \n",
       "max       10.000000                  10.000000     17.000000  "
      ]
     },
     "execution_count": 6,
     "metadata": {},
     "output_type": "execute_result"
    }
   ],
   "source": [
    "# Prints some statistics from the table\n",
    "train.describe()"
   ]
  },
  {
   "cell_type": "code",
   "execution_count": 7,
   "id": "63f0ddf7",
   "metadata": {},
   "outputs": [
    {
     "data": {
      "image/png": "[encoded data removed]",
      "text/plain": [
       "<Figure size 1440x1080 with 16 Axes>"
      ]
     },
     "metadata": {
      "needs_background": "light"
     },
     "output_type": "display_data"
    }
   ],
   "source": [
    "# creates graphs from the table\n",
    "train.hist(bins=50, figsize=(20,15))\n",
    "plt.show()"
   ]
  },
  {
   "cell_type": "code",
   "execution_count": 8,
   "id": "2898c633",
   "metadata": {},
   "outputs": [
    {
     "name": "stdout",
     "output_type": "stream",
     "text": [
      "Columns with missing values: ['gender', 'hemo', 'bmi']\n"
     ]
    }
   ],
   "source": [
    "#checks for missing values in the dataset\n",
    "columns_with_missing_values = train.columns[train.isna().any()].tolist()\n",
    "\n",
    "# Print the columns with missing values\n",
    "print(\"Columns with missing values:\", columns_with_missing_values)"
   ]
  },
  {
   "cell_type": "code",
   "execution_count": 9,
   "id": "4cf060a2",
   "metadata": {},
   "outputs": [],
   "source": [
    "# to make this notebook's output identical at every run\n",
    "np.random.seed(42)"
   ]
  },
  {
   "cell_type": "markdown",
   "id": "2c62e7b4",
   "metadata": {},
   "source": [
    "# 4. Prepare the data to better expose the underlying data patterns to machine learning algorithms"
   ]
  },
  {
   "cell_type": "code",
   "execution_count": 10,
   "id": "13a83eea",
   "metadata": {},
   "outputs": [],
   "source": [
    "#Some preperation for the pipeline\n",
    "# Calculate the mean of \"bmi\" for this batch of data\n",
    "bmi_mean = train[\"bmi\"].mean()"
   ]
  },
  {
   "cell_type": "code",
   "execution_count": 11,
   "id": "9cb11c21",
   "metadata": {},
   "outputs": [],
   "source": [
    "from sklearn.preprocessing import LabelEncoder\n",
    "# Calculate the mean of \"bmi\" for this batch of data\n",
    "bmi_mean = train[\"bmi\"].mean()\n",
    "#Since we are missing values in three of the tables we have to handle these values. \n",
    "class CustomPreprocessor:\n",
    "    def fit(self, X, y=None):\n",
    "        return self\n",
    "\n",
    "    def transform(self, X):\n",
    "        # We replace the missing hemo values with 0 as we assume they are important enough- \n",
    "        # to not be forgotten if they are present\n",
    "        X[\"hemo\"].fillna(0, inplace=True)\n",
    "        \n",
    "        # We drop the gender column\n",
    "        X[\"gender\"].fillna(0, inplace=True)\n",
    "        \n",
    "        # Handle missing values in \"bmi\" by filling with the mean calculated earlier\n",
    "        X[\"bmi\"].fillna(bmi_mean, inplace=True)\n",
    "        \n",
    "        # We convert the facid to numerical values\n",
    "        le = LabelEncoder()\n",
    "        X[\"facid\"] = le.fit_transform(X[\"facid\"])\n",
    "        X[\"gender\"] = le.fit_transform(X[\"facid\"])\n",
    "        \n",
    "        # We replace true/false values with numerical values 0/1 \n",
    "        columns_to_convert = [\"dialysisrenalendstage\", \"asthma\", \"psychologicaldisordermajor\", \"irondef\", \"pneum\", \"substancedependence\",\n",
    "                        \"depress\", \"psychother\", \"fibrosisandother\", \"malnutrition\", \"hemo\"]\n",
    "        X[columns_to_convert] = X[columns_to_convert].astype(int)\n",
    "        \n",
    "        return X"
   ]
  },
  {
   "cell_type": "code",
   "execution_count": 12,
   "id": "f4313d46",
   "metadata": {},
   "outputs": [],
   "source": [
    "from sklearn.pipeline import Pipeline\n",
    "# We create a pipeline with the custom preprocessor\n",
    "pipeline = Pipeline([\n",
    "    ('custom_preprocessor', CustomPreprocessor()),\n",
    "])"
   ]
  },
  {
   "cell_type": "code",
   "execution_count": 13,
   "id": "300c1c0c",
   "metadata": {},
   "outputs": [],
   "source": [
    "stay_prepared = pipeline.transform(train)"
   ]
  },
  {
   "cell_type": "code",
   "execution_count": 14,
   "id": "bd9845a8",
   "metadata": {},
   "outputs": [],
   "source": [
    "# This copies train to a new set \"housing\" without median_house_value,\n",
    "# and copies only median_house_value to a set called housing_labels.\n",
    "stay = stay_prepared.drop([\"lengthofstay\", \"vdate\"], axis=1) \n",
    "stay_labels = stay_prepared[\"lengthofstay\"].copy()"
   ]
  },
  {
   "cell_type": "code",
   "execution_count": 15,
   "id": "2d74dc21",
   "metadata": {},
   "outputs": [],
   "source": [
    "corr_matrix = stay_prepared.corr()"
   ]
  },
  {
   "cell_type": "code",
   "execution_count": 16,
   "id": "2ae3f26a",
   "metadata": {
    "scrolled": true
   },
   "outputs": [
    {
     "data": {
      "text/plain": [
       "lengthofstay                  1.000000\n",
       "rcount                        0.749312\n",
       "gender                        0.357686\n",
       "facid                         0.357686\n",
       "psychologicaldisordermajor    0.285993\n",
       "hemo                          0.218408\n",
       "irondef                       0.192137\n",
       "psychother                    0.189160\n",
       "malnutrition                  0.175088\n",
       "dialysisrenalendstage         0.170503\n",
       "substancedependence           0.147119\n",
       "bloodureanitro                0.143347\n",
       "pneum                         0.133172\n",
       "depress                       0.119296\n",
       "asthma                        0.081566\n",
       "fibrosisandother              0.059702\n",
       "pulse                         0.008427\n",
       "secondarydiagnosisnonicd9     0.008367\n",
       "id                            0.005886\n",
       "glucose                      -0.001996\n",
       "bmi                          -0.003299\n",
       "sodium                       -0.003640\n",
       "creatinine                   -0.005393\n",
       "neutrophils                  -0.012132\n",
       "respiration                  -0.021507\n",
       "hematocrit                   -0.062976\n",
       "Name: lengthofstay, dtype: float64"
      ]
     },
     "execution_count": 16,
     "metadata": {},
     "output_type": "execute_result"
    }
   ],
   "source": [
    "# This is a function that checks how well our attributes correlate with lengthofstay.\n",
    "corr_matrix[\"lengthofstay\"].sort_values(ascending=False)"
   ]
  },
  {
   "cell_type": "code",
   "execution_count": 17,
   "id": "441d075e",
   "metadata": {},
   "outputs": [
    {
     "data": {
      "text/plain": [
       "array([[<AxesSubplot:xlabel='lengthofstay', ylabel='lengthofstay'>,\n",
       "        <AxesSubplot:xlabel='rcount', ylabel='lengthofstay'>,\n",
       "        <AxesSubplot:xlabel='psychologicaldisordermajor', ylabel='lengthofstay'>,\n",
       "        <AxesSubplot:xlabel='hemo', ylabel='lengthofstay'>],\n",
       "       [<AxesSubplot:xlabel='lengthofstay', ylabel='rcount'>,\n",
       "        <AxesSubplot:xlabel='rcount', ylabel='rcount'>,\n",
       "        <AxesSubplot:xlabel='psychologicaldisordermajor', ylabel='rcount'>,\n",
       "        <AxesSubplot:xlabel='hemo', ylabel='rcount'>],\n",
       "       [<AxesSubplot:xlabel='lengthofstay', ylabel='psychologicaldisordermajor'>,\n",
       "        <AxesSubplot:xlabel='rcount', ylabel='psychologicaldisordermajor'>,\n",
       "        <AxesSubplot:xlabel='psychologicaldisordermajor', ylabel='psychologicaldisordermajor'>,\n",
       "        <AxesSubplot:xlabel='hemo', ylabel='psychologicaldisordermajor'>],\n",
       "       [<AxesSubplot:xlabel='lengthofstay', ylabel='hemo'>,\n",
       "        <AxesSubplot:xlabel='rcount', ylabel='hemo'>,\n",
       "        <AxesSubplot:xlabel='psychologicaldisordermajor', ylabel='hemo'>,\n",
       "        <AxesSubplot:xlabel='hemo', ylabel='hemo'>]], dtype=object)"
      ]
     },
     "execution_count": 17,
     "metadata": {},
     "output_type": "execute_result"
    },
    {
     "data": {
      "image/png": "[encoded data removed]",
      "text/plain": [
       "<Figure size 864x576 with 16 Axes>"
      ]
     },
     "metadata": {
      "needs_background": "light"
     },
     "output_type": "display_data"
    }
   ],
   "source": [
    "# Here we use pandas scatter_matrix function, which allows us to check for correlation between attributes \n",
    "# by plotting every numerical attribute against every other numerical attribute, \n",
    "# in this case we focus on 4 attributes based on the previous correlation_matrix.\n",
    "\n",
    "from pandas.plotting import scatter_matrix\n",
    "attributes = [\"lengthofstay\", \"rcount\", \"psychologicaldisordermajor\",\n",
    "             \"hemo\"]\n",
    "scatter_matrix(stay_prepared[attributes], figsize=(12, 8))"
   ]
  },
  {
   "cell_type": "code",
   "execution_count": 18,
   "id": "fc90bbbc",
   "metadata": {},
   "outputs": [
    {
     "data": {
      "text/plain": [
       "<AxesSubplot:xlabel='rcount', ylabel='lengthofstay'>"
      ]
     },
     "execution_count": 18,
     "metadata": {},
     "output_type": "execute_result"
    },
    {
     "data": {
      "image/png": "[encoded data removed]",
      "text/plain": [
       "<Figure size 432x288 with 1 Axes>"
      ]
     },
     "metadata": {
      "needs_background": "light"
     },
     "output_type": "display_data"
    }
   ],
   "source": [
    "# We zoom in on rcount, as it seems to be the attribute that correlates the most.\n",
    "# We can see that a higher rcount generally increases the lenghtofstay\n",
    "\n",
    "stay_prepared.plot(kind=\"scatter\", x=\"rcount\", y=\"lengthofstay\",\n",
    "         alpha=0.1)"
   ]
  },
  {
   "cell_type": "markdown",
   "id": "1cefc87e",
   "metadata": {},
   "source": [
    "# 5. Explore many different models and short-list the best ones"
   ]
  },
  {
   "cell_type": "code",
   "execution_count": 19,
   "id": "995b7b42",
   "metadata": {},
   "outputs": [
    {
     "data": {
      "text/plain": [
       "LinearRegression()"
      ]
     },
     "execution_count": 19,
     "metadata": {},
     "output_type": "execute_result"
    }
   ],
   "source": [
    "# creates the linear regression class\n",
    "from sklearn.linear_model import LinearRegression\n",
    "lin_reg = LinearRegression()\n",
    "lin_reg.fit(stay, stay_labels)\n"
   ]
  },
  {
   "cell_type": "code",
   "execution_count": 20,
   "id": "a06d80f7",
   "metadata": {},
   "outputs": [
    {
     "name": "stdout",
     "output_type": "stream",
     "text": [
      "Predictions: [8.11238221 3.04915957 3.27086491 2.28472364 6.46008088]\n",
      "Labels: [7, 3, 5, 2, 8]\n"
     ]
    }
   ],
   "source": [
    "# Tries out the newly created class\n",
    "some_data = stay.iloc[:5]  # Adjust the index range as needed\n",
    "some_labels = stay_labels.iloc[:5]  # Corresponding labels for comparison\n",
    "\n",
    "# Make predictions using the trained model\n",
    "predictions = lin_reg.predict(some_data)\n",
    "\n",
    "# Print the predictions and actual labels for comparison\n",
    "print(\"Predictions:\", predictions)\n",
    "print(\"Labels:\", some_labels.tolist())  # Convert labels to a list for printing"
   ]
  },
  {
   "cell_type": "code",
   "execution_count": 21,
   "id": "fad8d61b",
   "metadata": {},
   "outputs": [
    {
     "name": "stdout",
     "output_type": "stream",
     "text": [
      "Root Mean Squared Error (RMSE): 1.1591809417375303\n"
     ]
    }
   ],
   "source": [
    "from sklearn.metrics import mean_squared_error\n",
    "\n",
    "# Make predictions on the entire \"stay\" dataset\n",
    "stay_predictions = lin_reg.predict(stay)\n",
    "\n",
    "# Calculate the mean squared error\n",
    "lin_mse = mean_squared_error(stay_labels, stay_predictions)\n",
    "\n",
    "# Calculate the RMSE (take the square root of the MSE)\n",
    "lin_rmse = np.sqrt(lin_mse)\n",
    "\n",
    "# Print the RMSE\n",
    "print(\"Root Mean Squared Error (RMSE):\", lin_rmse)\n"
   ]
  },
  {
   "cell_type": "code",
   "execution_count": 22,
   "id": "c1b4057a",
   "metadata": {},
   "outputs": [
    {
     "name": "stdout",
     "output_type": "stream",
     "text": [
      "RandomForestRegressor RMSE: 0.24460108047886578\n"
     ]
    }
   ],
   "source": [
    "from sklearn.ensemble import RandomForestRegressor\n",
    "from sklearn.metrics import mean_squared_error\n",
    "\n",
    "# Create a RandomForestRegressor model\n",
    "rf_reg = RandomForestRegressor(random_state=42)\n",
    "\n",
    "# Fit the model to the training data\n",
    "rf_reg.fit(stay, stay_labels)\n",
    "\n",
    "# Make predictions on the training data\n",
    "stay_predictions = rf_reg.predict(stay)\n",
    "\n",
    "# Calculate the RMSE\n",
    "rf_rmse = np.sqrt(mean_squared_error(stay_labels, stay_predictions))\n",
    "\n",
    "# Print the RMSE score\n",
    "print(\"RandomForestRegressor RMSE:\", rf_rmse)\n"
   ]
  },
  {
   "cell_type": "code",
   "execution_count": 23,
   "id": "1ed406d4",
   "metadata": {},
   "outputs": [
    {
     "data": {
      "text/plain": [
       "DecisionTreeRegressor()"
      ]
     },
     "execution_count": 23,
     "metadata": {},
     "output_type": "execute_result"
    }
   ],
   "source": [
    "from sklearn.tree import DecisionTreeRegressor\n",
    "\n",
    "# Create a DecisionTreeRegressor model\n",
    "tree_reg = DecisionTreeRegressor()\n",
    "\n",
    "# Fit the model to the training data\n",
    "tree_reg.fit(stay, stay_labels)\n"
   ]
  },
  {
   "cell_type": "code",
   "execution_count": 24,
   "id": "412897bb",
   "metadata": {},
   "outputs": [],
   "source": [
    "# Trains a decisiontreeregressor\n",
    "from sklearn.model_selection import cross_val_score\n",
    "\n",
    "# Perform 10-fold cross-validation with a DecisionTreeRegressor\n",
    "scores = cross_val_score(tree_reg, stay, stay_labels,\n",
    "scoring=\"neg_mean_squared_error\", cv=10)\n",
    "tree_rmse_scores = np.sqrt(-scores)\n"
   ]
  },
  {
   "cell_type": "code",
   "execution_count": 25,
   "id": "de134d11",
   "metadata": {},
   "outputs": [
    {
     "name": "stdout",
     "output_type": "stream",
     "text": [
      "Scores: [0.94150336 0.91908339 0.9293623  0.93281448 0.94973681 0.90301084\n",
      " 0.94898442 0.94468438 0.94679912 0.9293623 ]\n",
      "Mean: 0.9345341391675793\n",
      "Standard deviation: 0.01425081006309218\n"
     ]
    }
   ],
   "source": [
    "# Prints the score of the DecisionTreeRegressor. Scores about 0.93\n",
    ">>> def display_scores(scores):\n",
    "...  print(\"Scores:\", scores)\n",
    "...  print(\"Mean:\", scores.mean())\n",
    "...  print(\"Standard deviation:\", scores.std())\n",
    "...\n",
    ">>> display_scores(tree_rmse_scores)"
   ]
  },
  {
   "cell_type": "code",
   "execution_count": 26,
   "id": "6ba8e7d8",
   "metadata": {},
   "outputs": [
    {
     "name": "stdout",
     "output_type": "stream",
     "text": [
      "Scores: [1.1652415  1.16912508 1.17952923 1.15584527 1.15231785 1.13693139\n",
      " 1.17187087 1.17480987 1.16316472 1.12861014]\n",
      "Mean: 1.1597445925334822\n",
      "Standard deviation: 0.01567005169883235\n"
     ]
    }
   ],
   "source": [
    "# Prints the result for the linear regression model. Scores about 1.16\n",
    ">>> lin_scores = cross_val_score(lin_reg, stay, stay_labels,\n",
    "...                              scoring=\"neg_mean_squared_error\", cv=10)\n",
    "...\n",
    ">>> lin_rmse_scores = np.sqrt(-lin_scores)\n",
    ">>> display_scores(lin_rmse_scores)"
   ]
  },
  {
   "cell_type": "code",
   "execution_count": 27,
   "id": "9a84fa15",
   "metadata": {},
   "outputs": [
    {
     "name": "stdout",
     "output_type": "stream",
     "text": [
      "Scores: [0.71061141 0.69722657]\n",
      "Mean: 0.7039189909180483\n",
      "Standard deviation: 0.0066924218808173674\n"
     ]
    }
   ],
   "source": [
    "# Random forest regressor seems to be the most effective model with about a score of 0.66\n",
    "from sklearn.model_selection import cross_val_score\n",
    "\n",
    "forest_scores = cross_val_score(rf_reg, stay, stay_labels,\n",
    "                                scoring=\"neg_mean_squared_error\", cv=2)\n",
    "forest_rmse_scores = np.sqrt(-forest_scores)\n",
    "display_scores(forest_rmse_scores)"
   ]
  },
  {
   "cell_type": "markdown",
   "id": "9aa04298",
   "metadata": {},
   "source": [
    "# 6. Fine-tune your models and combine them into a great solution"
   ]
  },
  {
   "cell_type": "code",
   "execution_count": 28,
   "id": "7fe4e2db",
   "metadata": {},
   "outputs": [
    {
     "data": {
      "text/plain": [
       "GridSearchCV(cv=5, estimator=RandomForestRegressor(),\n",
       "             param_grid=[{'max_features': [2, 4, 6, 8],\n",
       "                          'n_estimators': [3, 10, 30]},\n",
       "                         {'bootstrap': [False], 'max_features': [2, 3, 4],\n",
       "                          'n_estimators': [3, 10]}],\n",
       "             return_train_score=True, scoring='neg_mean_squared_error')"
      ]
     },
     "execution_count": 28,
     "metadata": {},
     "output_type": "execute_result"
    }
   ],
   "source": [
    "# Makes the program evaluate all the specified parameters\n",
    "from sklearn.model_selection import GridSearchCV\n",
    "param_grid = [\n",
    "    {'n_estimators': [3, 10, 30], 'max_features': [2, 4, 6, 8]},\n",
    "    {'bootstrap': [False], 'n_estimators': [3, 10], 'max_features': [2, 3, 4]},\n",
    "]\n",
    "rf_reg = RandomForestRegressor()\n",
    "\n",
    "grid_search = GridSearchCV(rf_reg, param_grid, cv=5,\n",
    "                           scoring='neg_mean_squared_error',\n",
    "                           return_train_score=True)\n",
    "\n",
    "grid_search.fit(stay, stay_labels)"
   ]
  },
  {
   "cell_type": "code",
   "execution_count": 29,
   "id": "5d982044",
   "metadata": {},
   "outputs": [
    {
     "data": {
      "text/plain": [
       "{'max_features': 8, 'n_estimators': 30}"
      ]
     },
     "execution_count": 29,
     "metadata": {},
     "output_type": "execute_result"
    }
   ],
   "source": [
    "# Searches for the best parameters\n",
    ">>> grid_search.best_params_"
   ]
  },
  {
   "cell_type": "code",
   "execution_count": 30,
   "id": "4b2d66e4",
   "metadata": {},
   "outputs": [
    {
     "data": {
      "text/plain": [
       "RandomForestRegressor(max_features=8, n_estimators=30)"
      ]
     },
     "execution_count": 30,
     "metadata": {},
     "output_type": "execute_result"
    }
   ],
   "source": [
    "model = grid_search.best_estimator_\n",
    "model"
   ]
  },
  {
   "cell_type": "code",
   "execution_count": 31,
   "id": "0c98a53c",
   "metadata": {},
   "outputs": [
    {
     "name": "stdout",
     "output_type": "stream",
     "text": [
      "Scores: [0.94150336 0.91908339 0.9293623  0.93281448 0.94973681 0.90301084\n",
      " 0.94898442 0.94468438 0.94679912 0.9293623 ]\n",
      "Mean: 0.9345341391675793\n",
      "Standard deviation: 0.01425081006309218\n"
     ]
    }
   ],
   "source": [
    "# displays score for random forest\n",
    "cores = cross_val_score(model, stay, stay_labels, scoring=\"neg_mean_squared_error\", cv=10)\n",
    "forest_rmse_scores = np.sqrt(-scores)\n",
    "\n",
    "def display_scores(scores):\n",
    "    print(\"Scores:\", scores)\n",
    "    print(\"Mean:\", scores.mean())\n",
    "    print(\"Standard deviation:\", scores.std())\n",
    "\n",
    "display_scores(forest_rmse_scores)"
   ]
  },
  {
   "cell_type": "code",
   "execution_count": 32,
   "id": "f9a9af5e",
   "metadata": {},
   "outputs": [
    {
     "name": "stdout",
     "output_type": "stream",
     "text": [
      "1.1304002662352668 {'max_features': 2, 'n_estimators': 3}\n",
      "0.9259027255294463 {'max_features': 2, 'n_estimators': 10}\n",
      "0.8354644844407839 {'max_features': 2, 'n_estimators': 30}\n",
      "0.9568317428508443 {'max_features': 4, 'n_estimators': 3}\n",
      "0.7766781830333591 {'max_features': 4, 'n_estimators': 10}\n",
      "0.7188545893537306 {'max_features': 4, 'n_estimators': 30}\n",
      "0.8562524475692048 {'max_features': 6, 'n_estimators': 3}\n",
      "0.7293248345461124 {'max_features': 6, 'n_estimators': 10}\n",
      "0.6821817590502932 {'max_features': 6, 'n_estimators': 30}\n",
      "0.827262649986987 {'max_features': 8, 'n_estimators': 3}\n",
      "0.7086544594209104 {'max_features': 8, 'n_estimators': 10}\n",
      "0.6708146196739111 {'max_features': 8, 'n_estimators': 30}\n",
      "1.0483236807792427 {'bootstrap': False, 'max_features': 2, 'n_estimators': 3}\n",
      "0.8788030008401851 {'bootstrap': False, 'max_features': 2, 'n_estimators': 10}\n",
      "0.9160881291215711 {'bootstrap': False, 'max_features': 3, 'n_estimators': 3}\n",
      "0.777578291878059 {'bootstrap': False, 'max_features': 3, 'n_estimators': 10}\n",
      "0.8609444795254784 {'bootstrap': False, 'max_features': 4, 'n_estimators': 3}\n",
      "0.736787137315986 {'bootstrap': False, 'max_features': 4, 'n_estimators': 10}\n"
     ]
    }
   ],
   "source": [
    "# Shows the score for the different parameters\n",
    "cvres = grid_search.cv_results_\n",
    "for mean_score, params in zip(cvres[\"mean_test_score\"], cvres[\"params\"]):\n",
    "    print(np.sqrt(-mean_score), params)"
   ]
  },
  {
   "cell_type": "code",
   "execution_count": 33,
   "id": "92748705",
   "metadata": {},
   "outputs": [],
   "source": [
    "#Evaluates the final RMSE score\n",
    "final_model = grid_search.best_estimator_\n",
    "X_test = train.drop([\"lengthofstay\", \"vdate\"], axis=1)\n",
    "y_test = train[\"lengthofstay\"].copy()\n",
    "\n",
    "X_test_prepared = pipeline.transform(X_test)\n",
    "\n",
    "final_predictions = final_model.predict(X_test_prepared)\n",
    "\n",
    "final_mse = mean_squared_error(y_test, final_predictions)\n",
    "final_rmse = np.sqrt(final_mse)\n"
   ]
  },
  {
   "cell_type": "code",
   "execution_count": 34,
   "id": "3cbf08b0",
   "metadata": {},
   "outputs": [
    {
     "data": {
      "text/plain": [
       "0.25814955060234074"
      ]
     },
     "execution_count": 34,
     "metadata": {},
     "output_type": "execute_result"
    }
   ],
   "source": [
    "# The final score\n",
    "final_rmse"
   ]
  },
  {
   "cell_type": "markdown",
   "id": "57d5597e",
   "metadata": {},
   "source": [
    "# 7. Present your solution"
   ]
  },
  {
   "cell_type": "code",
   "execution_count": 35,
   "id": "8e662763",
   "metadata": {},
   "outputs": [],
   "source": [
    "# prepares the results and creates a .csv file\n",
    "lengthofstay = [0 for i in test['id']]"
   ]
  },
  {
   "cell_type": "code",
   "execution_count": 36,
   "id": "4efd9f63",
   "metadata": {},
   "outputs": [],
   "source": [
    "# copies the id column to test_id \n",
    "test_id = test['id'].copy()"
   ]
  },
  {
   "cell_type": "code",
   "execution_count": 37,
   "id": "4fe2ba77",
   "metadata": {},
   "outputs": [],
   "source": [
    "#Runs the test set trough the pipeline\n",
    "test_prepared = pipeline.transform(test)"
   ]
  },
  {
   "cell_type": "code",
   "execution_count": 39,
   "id": "6b4cc912",
   "metadata": {},
   "outputs": [],
   "source": [
    "# Gets the best parameters for the set and copies it to predictions\n",
    "predictions = final_model.predict(test_prepared)"
   ]
  },
  {
   "cell_type": "code",
   "execution_count": 40,
   "id": "657cec46",
   "metadata": {},
   "outputs": [
    {
     "data": {
      "text/html": [
       "<div>\n",
       "<style scoped>\n",
       "    .dataframe tbody tr th:only-of-type {\n",
       "        vertical-align: middle;\n",
       "    }\n",
       "\n",
       "    .dataframe tbody tr th {\n",
       "        vertical-align: top;\n",
       "    }\n",
       "\n",
       "    .dataframe thead th {\n",
       "        text-align: right;\n",
       "    }\n",
       "</style>\n",
       "<table border=\"1\" class=\"dataframe\">\n",
       "  <thead>\n",
       "    <tr style=\"text-align: right;\">\n",
       "      <th></th>\n",
       "      <th>id</th>\n",
       "      <th>lengthofstay</th>\n",
       "    </tr>\n",
       "  </thead>\n",
       "  <tbody>\n",
       "    <tr>\n",
       "      <th>0</th>\n",
       "      <td>75721</td>\n",
       "      <td>1.900000</td>\n",
       "    </tr>\n",
       "    <tr>\n",
       "      <th>1</th>\n",
       "      <td>80184</td>\n",
       "      <td>2.766667</td>\n",
       "    </tr>\n",
       "    <tr>\n",
       "      <th>2</th>\n",
       "      <td>19864</td>\n",
       "      <td>7.733333</td>\n",
       "    </tr>\n",
       "    <tr>\n",
       "      <th>3</th>\n",
       "      <td>76699</td>\n",
       "      <td>2.733333</td>\n",
       "    </tr>\n",
       "    <tr>\n",
       "      <th>4</th>\n",
       "      <td>92991</td>\n",
       "      <td>3.166667</td>\n",
       "    </tr>\n",
       "    <tr>\n",
       "      <th>5</th>\n",
       "      <td>76434</td>\n",
       "      <td>5.533333</td>\n",
       "    </tr>\n",
       "    <tr>\n",
       "      <th>6</th>\n",
       "      <td>84004</td>\n",
       "      <td>1.466667</td>\n",
       "    </tr>\n",
       "    <tr>\n",
       "      <th>7</th>\n",
       "      <td>80917</td>\n",
       "      <td>1.000000</td>\n",
       "    </tr>\n",
       "    <tr>\n",
       "      <th>8</th>\n",
       "      <td>60767</td>\n",
       "      <td>3.666667</td>\n",
       "    </tr>\n",
       "    <tr>\n",
       "      <th>9</th>\n",
       "      <td>50074</td>\n",
       "      <td>2.400000</td>\n",
       "    </tr>\n",
       "  </tbody>\n",
       "</table>\n",
       "</div>"
      ],
      "text/plain": [
       "      id  lengthofstay\n",
       "0  75721      1.900000\n",
       "1  80184      2.766667\n",
       "2  19864      7.733333\n",
       "3  76699      2.733333\n",
       "4  92991      3.166667\n",
       "5  76434      5.533333\n",
       "6  84004      1.466667\n",
       "7  80917      1.000000\n",
       "8  60767      3.666667\n",
       "9  50074      2.400000"
      ]
     },
     "execution_count": 40,
     "metadata": {},
     "output_type": "execute_result"
    }
   ],
   "source": [
    "# Formats the data according to the assignment, and prints the first 10 values.\n",
    "submission = pd.DataFrame({\n",
    "    'id': test_id,\n",
    "    'lengthofstay': predictions\n",
    "})\n",
    "submission.head(10)"
   ]
  },
  {
   "cell_type": "code",
   "execution_count": 41,
   "id": "95d0aaba",
   "metadata": {},
   "outputs": [],
   "source": [
    "# Puts the data into a csv file\n",
    "submission.to_csv('submission.csv', index=False)"
   ]
  }
 ],
 "metadata": {
  "kernelspec": {
   "display_name": "dat158",
   "language": "python",
   "name": "dat158"
  },
  "language_info": {
   "codemirror_mode": {
    "name": "ipython",
    "version": 3
   },
   "file_extension": ".py",
   "mimetype": "text/x-python",
   "name": "python",
   "nbconvert_exporter": "python",
   "pygments_lexer": "ipython3",
   "version": "3.9.6"
  }
 },
 "nbformat": 4,
 "nbformat_minor": 5
}
